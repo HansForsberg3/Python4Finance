{
 "cells": [
  {
   "cell_type": "code",
   "execution_count": 34,
   "metadata": {},
   "outputs": [],
   "source": [
    "# Provides ways to work with large multidimensional arrays\n",
    "import numpy as np \n",
    "# Allows for further data manipulation and analysis\n",
    "import pandas as pd\n",
    "from pandas_datareader import data as web # Reads stock data \n",
    "import matplotlib.pyplot as plt # Plotting\n",
    "import matplotlib.dates as mdates # Styling dates\n",
    "%matplotlib inline\n",
    "\n",
    "import datetime as dt # For defining dates\n",
    "import mplfinance as mpf # Matplotlib finance\n",
    "\n",
    "import time\n",
    "\n",
    "# Used to get data from a directory\n",
    "import os\n",
    "from os import listdir\n",
    "from os.path import isfile, join"
   ]
  },
  {
   "cell_type": "markdown",
   "metadata": {},
   "source": [
    "## Dates & Other Constants"
   ]
  },
  {
   "cell_type": "code",
   "execution_count": 35,
   "metadata": {},
   "outputs": [],
   "source": [
    "# Define path to files\n",
    "# For MacOS\n",
    "#PATH = \"/Users/derekbanas/Documents/Tutorials/Python for Finance/Stocks/\"\n",
    "# For Windows\n",
    "PATH = 'C:/Users/hansf/git/python/aktie/python4finance/stocks/'\n",
    "\n",
    "# Start date defaults\n",
    "S_YEAR = 2017\n",
    "S_MONTH = 1\n",
    "S_DAY = 3\n",
    "S_DATE_STR = \"2017-01-03\"\n",
    "S_DATE_DATETIME = dt.datetime(S_YEAR, S_MONTH, S_DAY)\n",
    "\n",
    "# End date defaults\n",
    "E_YEAR = 2021\n",
    "E_MONTH = 8\n",
    "E_DAY = 19\n",
    "E_DATE_STR = \"2021-08-19\"\n",
    "E_DATE_DATETIME = dt.datetime(E_YEAR, E_MONTH, E_DAY)"
   ]
  },
  {
   "cell_type": "markdown",
   "metadata": {},
   "source": [
    "## Get Stock File Names in a List"
   ]
  },
  {
   "cell_type": "code",
   "execution_count": 36,
   "metadata": {},
   "outputs": [
    {
     "data": {
      "text/plain": [
       "['AMZN']"
      ]
     },
     "execution_count": 36,
     "metadata": {},
     "output_type": "execute_result"
    }
   ],
   "source": [
    "files = [x for x in listdir(PATH) if isfile(join(PATH, x))]\n",
    "tickers = [os.path.splitext(x)[0] for x in files]\n",
    "tickers\n",
    "\n",
    "# On MacOS Only\n",
    "#tickers.remove('.DS_Store')\n",
    "#tickers.sort()"
   ]
  },
  {
   "cell_type": "markdown",
   "metadata": {},
   "source": [
    "## Function that Returns a Dataframe from a CSV"
   ]
  },
  {
   "cell_type": "code",
   "execution_count": 37,
   "metadata": {},
   "outputs": [],
   "source": [
    "def get_df_from_csv(ticker):\n",
    "    try:\n",
    "        df = pd.read_csv(PATH + ticker + '.csv')\n",
    "    except FileNotFoundError:\n",
    "        pass\n",
    "        # print(\"File Doesn't Exist\")\n",
    "    else:\n",
    "        return df"
   ]
  },
  {
   "cell_type": "markdown",
   "metadata": {},
   "source": [
    "## Function that Saves Dataframe to CSV"
   ]
  },
  {
   "cell_type": "code",
   "execution_count": 38,
   "metadata": {},
   "outputs": [],
   "source": [
    "def save_dataframe_to_csv(df, ticker):\n",
    "    df.to_csv(PATH + ticker + '.csv')"
   ]
  },
  {
   "cell_type": "markdown",
   "metadata": {},
   "source": [
    "## Return 1st Valid Date in Dataframe"
   ]
  },
  {
   "cell_type": "code",
   "execution_count": 39,
   "metadata": {},
   "outputs": [],
   "source": [
    "def get_valid_dates(df, sdate, edate):  \n",
    "    try:\n",
    "        mask = (df['Date'] > sdate) & (df['Date'] <= edate) \n",
    "        sm_df = df.loc[mask]\n",
    "        sm_df = sm_df.set_index(['Date'])\n",
    "        sm_date = sm_df.index.min()\n",
    "        last_date = sm_df.index.max()\n",
    "        date_leading = '-'.join(('0' if len(x)<2 else '')+x for x in sm_date.split('-'))\n",
    "        date_ending = '-'.join(('0' if len(x)<2 else '')+x for x in last_date.split('-'))\n",
    "    except Exception:\n",
    "        print(\"Date Corrupted\")\n",
    "    else:\n",
    "        return date_leading, date_ending"
   ]
  },
  {
   "cell_type": "markdown",
   "metadata": {},
   "source": [
    "## Returns Return on Investment over Time"
   ]
  },
  {
   "cell_type": "code",
   "execution_count": 40,
   "metadata": {},
   "outputs": [],
   "source": [
    "def roi_between_dates(df, sdate, edate):\n",
    "    try: \n",
    "        start_val = df.loc[sdate,'Adj Close'] \n",
    "        end_val = df.loc[edate,'Adj Close']\n",
    "        roi = ((end_val - start_val) / start_val)\n",
    "    except Exception:\n",
    "        print(\"Data Corrupted\")\n",
    "    else:\n",
    "        return roi"
   ]
  },
  {
   "cell_type": "markdown",
   "metadata": {},
   "source": [
    "## Get Mean Between Dates"
   ]
  },
  {
   "cell_type": "code",
   "execution_count": 41,
   "metadata": {},
   "outputs": [],
   "source": [
    "def get_mean_between_dates(df, sdate, edate):\n",
    "    mask = (df['Date'] > sdate) & (df['Date'] <= edate)\n",
    "    # return df.loc[mask][\"Adj Close\"].mean()"
   ]
  },
  {
   "cell_type": "markdown",
   "metadata": {},
   "source": [
    "## Get Standard Deviation Between Dates"
   ]
  },
  {
   "cell_type": "code",
   "execution_count": 42,
   "metadata": {},
   "outputs": [],
   "source": [
    "def get_sd_between_dates(df, sdate, edate):\n",
    "    mask = (df['Date'] > sdate) & (df['Date'] <= edate)\n",
    "    return df.loc[mask][\"Adj Close\"].std()"
   ]
  },
  {
   "cell_type": "markdown",
   "metadata": {},
   "source": [
    "## Get Coefficient of Variation Between Dates"
   ]
  },
  {
   "cell_type": "code",
   "execution_count": 43,
   "metadata": {},
   "outputs": [],
   "source": [
    "def get_cov_between_dates(df, sdate, edate):\n",
    "    mean = get_mean_between_dates(df, sdate, edate)\n",
    "    sd = get_sd_between_dates(df, sdate, edate)\n",
    "    return sd / mean"
   ]
  },
  {
   "cell_type": "markdown",
   "metadata": {},
   "source": [
    "## Merge Multiple Stocks in One Dataframe by Column Name"
   ]
  },
  {
   "cell_type": "code",
   "execution_count": 44,
   "metadata": {},
   "outputs": [],
   "source": [
    "def merge_df_by_column_name(col_name, sdate, edate, *tickers):\n",
    "    # Will hold data for all dataframes with the same column name\n",
    "    mult_df = pd.DataFrame()\n",
    "    \n",
    "    for x in tickers:\n",
    "        df = get_df_from_csv(x)\n",
    "        df['Date'] = pd.to_datetime(df['Date'])\n",
    "        # Use a mask to grab data between defined dates\n",
    "        mask = (df['Date'] >= sdate) & (df['Date'] <= edate)\n",
    "        mult_df[x] = df.loc[mask][col_name]\n",
    "        \n",
    "    return mult_df"
   ]
  },
  {
   "cell_type": "markdown",
   "metadata": {},
   "source": [
    "## 11 Stock Market Sectors"
   ]
  },
  {
   "cell_type": "markdown",
   "metadata": {},
   "source": [
    "**Technology** : Manufacturing of electronics, software, or related to information technology \n",
    "\n",
    "**Health Care** : Biotech, hospitals, medical devices, drugs \n",
    "\n",
    "**Financials** : Banks, investment funds, and insurance\n",
    "\n",
    "**Real Estate** : Residential, industrial, and retail real estate \n",
    "\n",
    "**Energy** : Production and supply of energy \n",
    "\n",
    "**Materials** : Mining, refining, chemical, and forestry \n",
    "\n",
    "**Consumer Discretionary** : Retailers, apparel, media, durables and services \n",
    "\n",
    "**Industrials** : Construction, machinery, fabrication, manufacturing, defense, and aerospace \n",
    "\n",
    "**Utilities** : Direct providers of electric, gas, and water \n",
    "\n",
    "**Consumer Staples** : Food, beverage as well as products consumers deem essential \n",
    "\n",
    "**Telecommunication** : Cable, internet providers, wireless, and satellite"
   ]
  },
  {
   "cell_type": "markdown",
   "metadata": {},
   "source": [
    "## Get Sector Stocks"
   ]
  },
  {
   "cell_type": "code",
   "execution_count": 45,
   "metadata": {},
   "outputs": [],
   "source": [
    "# For Windows\n",
    "sec_df = pd.read_csv('C:/Users/hansf/git/python/aktie/python4finance/stock_sectors.csv')\n",
    "# For Mac\n",
    "#sec_df = pd.read_csv('/Users/derekbanas/Documents/Tutorials/Python for Finance/stock_sectors.csv')\n",
    "sec_df\n",
    "\n",
    "# Get Industrials DF\n",
    "indus_df = sec_df.loc[sec_df['Sector'] == \"Industrials\"]\n",
    "health_df = sec_df.loc[sec_df['Sector'] == \"Health Care\"]\n",
    "it_df = sec_df.loc[sec_df['Sector'] == \"Information Technology\"]\n",
    "comm_df = sec_df.loc[sec_df['Sector'] == \"Communication Services\"]\n",
    "staple_df = sec_df.loc[sec_df['Sector'] == \"Consumer Staples\"]\n",
    "discretion_df = sec_df.loc[sec_df['Sector'] == \"Consumer Discretionary\"]\n",
    "utility_df = sec_df.loc[sec_df['Sector'] == \"Utilities\"]\n",
    "financial_df = sec_df.loc[sec_df['Sector'] == \"Financials\"]\n",
    "material_df = sec_df.loc[sec_df['Sector'] == \"Materials\"]\n",
    "restate_df = sec_df.loc[sec_df['Sector'] == \"Real Estate\"]\n",
    "energy_df = sec_df.loc[sec_df['Sector'] == \"Energy\"]"
   ]
  },
  {
   "cell_type": "markdown",
   "metadata": {},
   "source": [
    "## Returns a DF with ROIs for all Stocks"
   ]
  },
  {
   "cell_type": "code",
   "execution_count": 46,
   "metadata": {},
   "outputs": [],
   "source": [
    "def get_rois_for_stocks(stock_df):\n",
    "    # Will hold all tickers & stock rois\n",
    "    tickers = []\n",
    "    rois = []\n",
    "\n",
    "    # iterrows provides the index and column for each row in the DF\n",
    "    for index, row in stock_df.iterrows():\n",
    "        df = get_df_from_csv(row['Symbol'])\n",
    "    \n",
    "        # If we can't find the ticker delete it from the dataframe\n",
    "        if df is None:\n",
    "            pass\n",
    "            # print(row['Symbol'], \" is not available\")\n",
    "        else:\n",
    "            tickers.append(row['Symbol'])\n",
    "            sdate, edate = get_valid_dates(df, '2018-01-01', '2020-12-31')\n",
    "            df = df.set_index(['Date'])\n",
    "            roi = roi_between_dates(df, sdate, edate)\n",
    "            rois.append(roi)\n",
    "    return pd.DataFrame({'Ticker':tickers, 'ROI':rois})"
   ]
  },
  {
   "cell_type": "code",
   "execution_count": 47,
   "metadata": {},
   "outputs": [],
   "source": [
    "industrial = get_rois_for_stocks(indus_df)\n",
    "health_care = get_rois_for_stocks(health_df)\n",
    "it = get_rois_for_stocks(it_df)\n",
    "commun = get_rois_for_stocks(comm_df)\n",
    "staple = get_rois_for_stocks(staple_df)\n",
    "discretion = get_rois_for_stocks(discretion_df)\n",
    "utility = get_rois_for_stocks(utility_df)\n",
    "finance = get_rois_for_stocks(financial_df)\n",
    "material = get_rois_for_stocks(material_df)\n",
    "restate = get_rois_for_stocks(restate_df)\n",
    "energy = get_rois_for_stocks(energy_df)"
   ]
  },
  {
   "cell_type": "markdown",
   "metadata": {},
   "source": [
    "## Top Industrials"
   ]
  },
  {
   "cell_type": "code",
   "execution_count": 48,
   "metadata": {},
   "outputs": [
    {
     "data": {
      "text/html": [
       "<div>\n",
       "<style scoped>\n",
       "    .dataframe tbody tr th:only-of-type {\n",
       "        vertical-align: middle;\n",
       "    }\n",
       "\n",
       "    .dataframe tbody tr th {\n",
       "        vertical-align: top;\n",
       "    }\n",
       "\n",
       "    .dataframe thead th {\n",
       "        text-align: right;\n",
       "    }\n",
       "</style>\n",
       "<table border=\"1\" class=\"dataframe\">\n",
       "  <thead>\n",
       "    <tr style=\"text-align: right;\">\n",
       "      <th></th>\n",
       "      <th>Ticker</th>\n",
       "      <th>ROI</th>\n",
       "    </tr>\n",
       "  </thead>\n",
       "  <tbody>\n",
       "  </tbody>\n",
       "</table>\n",
       "</div>"
      ],
      "text/plain": [
       "Empty DataFrame\n",
       "Columns: [Ticker, ROI]\n",
       "Index: []"
      ]
     },
     "execution_count": 48,
     "metadata": {},
     "output_type": "execute_result"
    }
   ],
   "source": [
    "industrial.sort_values(by=['ROI'], ascending=False).head(5)"
   ]
  },
  {
   "cell_type": "markdown",
   "metadata": {},
   "source": [
    "## Top Healthcare"
   ]
  },
  {
   "cell_type": "code",
   "execution_count": 49,
   "metadata": {},
   "outputs": [
    {
     "data": {
      "text/html": [
       "<div>\n",
       "<style scoped>\n",
       "    .dataframe tbody tr th:only-of-type {\n",
       "        vertical-align: middle;\n",
       "    }\n",
       "\n",
       "    .dataframe tbody tr th {\n",
       "        vertical-align: top;\n",
       "    }\n",
       "\n",
       "    .dataframe thead th {\n",
       "        text-align: right;\n",
       "    }\n",
       "</style>\n",
       "<table border=\"1\" class=\"dataframe\">\n",
       "  <thead>\n",
       "    <tr style=\"text-align: right;\">\n",
       "      <th></th>\n",
       "      <th>Ticker</th>\n",
       "      <th>ROI</th>\n",
       "    </tr>\n",
       "  </thead>\n",
       "  <tbody>\n",
       "  </tbody>\n",
       "</table>\n",
       "</div>"
      ],
      "text/plain": [
       "Empty DataFrame\n",
       "Columns: [Ticker, ROI]\n",
       "Index: []"
      ]
     },
     "execution_count": 49,
     "metadata": {},
     "output_type": "execute_result"
    }
   ],
   "source": [
    "health_care.sort_values(by=['ROI'], ascending=False).head(5)"
   ]
  },
  {
   "cell_type": "markdown",
   "metadata": {},
   "source": [
    "## Top Information Tech"
   ]
  },
  {
   "cell_type": "code",
   "execution_count": 50,
   "metadata": {},
   "outputs": [
    {
     "data": {
      "text/html": [
       "<div>\n",
       "<style scoped>\n",
       "    .dataframe tbody tr th:only-of-type {\n",
       "        vertical-align: middle;\n",
       "    }\n",
       "\n",
       "    .dataframe tbody tr th {\n",
       "        vertical-align: top;\n",
       "    }\n",
       "\n",
       "    .dataframe thead th {\n",
       "        text-align: right;\n",
       "    }\n",
       "</style>\n",
       "<table border=\"1\" class=\"dataframe\">\n",
       "  <thead>\n",
       "    <tr style=\"text-align: right;\">\n",
       "      <th></th>\n",
       "      <th>Ticker</th>\n",
       "      <th>ROI</th>\n",
       "    </tr>\n",
       "  </thead>\n",
       "  <tbody>\n",
       "  </tbody>\n",
       "</table>\n",
       "</div>"
      ],
      "text/plain": [
       "Empty DataFrame\n",
       "Columns: [Ticker, ROI]\n",
       "Index: []"
      ]
     },
     "execution_count": 50,
     "metadata": {},
     "output_type": "execute_result"
    }
   ],
   "source": [
    "it.sort_values(by=['ROI'], ascending=False).head(5)"
   ]
  },
  {
   "cell_type": "markdown",
   "metadata": {},
   "source": [
    "## Top Communications"
   ]
  },
  {
   "cell_type": "code",
   "execution_count": 51,
   "metadata": {},
   "outputs": [
    {
     "data": {
      "text/html": [
       "<div>\n",
       "<style scoped>\n",
       "    .dataframe tbody tr th:only-of-type {\n",
       "        vertical-align: middle;\n",
       "    }\n",
       "\n",
       "    .dataframe tbody tr th {\n",
       "        vertical-align: top;\n",
       "    }\n",
       "\n",
       "    .dataframe thead th {\n",
       "        text-align: right;\n",
       "    }\n",
       "</style>\n",
       "<table border=\"1\" class=\"dataframe\">\n",
       "  <thead>\n",
       "    <tr style=\"text-align: right;\">\n",
       "      <th></th>\n",
       "      <th>Ticker</th>\n",
       "      <th>ROI</th>\n",
       "    </tr>\n",
       "  </thead>\n",
       "  <tbody>\n",
       "  </tbody>\n",
       "</table>\n",
       "</div>"
      ],
      "text/plain": [
       "Empty DataFrame\n",
       "Columns: [Ticker, ROI]\n",
       "Index: []"
      ]
     },
     "execution_count": 51,
     "metadata": {},
     "output_type": "execute_result"
    }
   ],
   "source": [
    "commun.sort_values(by=['ROI'], ascending=False).head(20)"
   ]
  },
  {
   "cell_type": "markdown",
   "metadata": {},
   "source": [
    "## Top Staples"
   ]
  },
  {
   "cell_type": "code",
   "execution_count": 52,
   "metadata": {},
   "outputs": [
    {
     "data": {
      "text/html": [
       "<div>\n",
       "<style scoped>\n",
       "    .dataframe tbody tr th:only-of-type {\n",
       "        vertical-align: middle;\n",
       "    }\n",
       "\n",
       "    .dataframe tbody tr th {\n",
       "        vertical-align: top;\n",
       "    }\n",
       "\n",
       "    .dataframe thead th {\n",
       "        text-align: right;\n",
       "    }\n",
       "</style>\n",
       "<table border=\"1\" class=\"dataframe\">\n",
       "  <thead>\n",
       "    <tr style=\"text-align: right;\">\n",
       "      <th></th>\n",
       "      <th>Ticker</th>\n",
       "      <th>ROI</th>\n",
       "    </tr>\n",
       "  </thead>\n",
       "  <tbody>\n",
       "  </tbody>\n",
       "</table>\n",
       "</div>"
      ],
      "text/plain": [
       "Empty DataFrame\n",
       "Columns: [Ticker, ROI]\n",
       "Index: []"
      ]
     },
     "execution_count": 52,
     "metadata": {},
     "output_type": "execute_result"
    }
   ],
   "source": [
    "staple.sort_values(by=['ROI'], ascending=False).head(5)"
   ]
  },
  {
   "cell_type": "markdown",
   "metadata": {},
   "source": [
    "## Top Discretionary"
   ]
  },
  {
   "cell_type": "code",
   "execution_count": 53,
   "metadata": {},
   "outputs": [
    {
     "data": {
      "text/html": [
       "<div>\n",
       "<style scoped>\n",
       "    .dataframe tbody tr th:only-of-type {\n",
       "        vertical-align: middle;\n",
       "    }\n",
       "\n",
       "    .dataframe tbody tr th {\n",
       "        vertical-align: top;\n",
       "    }\n",
       "\n",
       "    .dataframe thead th {\n",
       "        text-align: right;\n",
       "    }\n",
       "</style>\n",
       "<table border=\"1\" class=\"dataframe\">\n",
       "  <thead>\n",
       "    <tr style=\"text-align: right;\">\n",
       "      <th></th>\n",
       "      <th>Ticker</th>\n",
       "      <th>ROI</th>\n",
       "    </tr>\n",
       "  </thead>\n",
       "  <tbody>\n",
       "    <tr>\n",
       "      <th>0</th>\n",
       "      <td>AMZN</td>\n",
       "      <td>0.715971</td>\n",
       "    </tr>\n",
       "  </tbody>\n",
       "</table>\n",
       "</div>"
      ],
      "text/plain": [
       "  Ticker       ROI\n",
       "0   AMZN  0.715971"
      ]
     },
     "execution_count": 53,
     "metadata": {},
     "output_type": "execute_result"
    }
   ],
   "source": [
    "discretion.sort_values(by=['ROI'], ascending=False).head(5)"
   ]
  },
  {
   "cell_type": "markdown",
   "metadata": {},
   "source": [
    "## Top Utilities"
   ]
  },
  {
   "cell_type": "code",
   "execution_count": 54,
   "metadata": {},
   "outputs": [
    {
     "data": {
      "text/html": [
       "<div>\n",
       "<style scoped>\n",
       "    .dataframe tbody tr th:only-of-type {\n",
       "        vertical-align: middle;\n",
       "    }\n",
       "\n",
       "    .dataframe tbody tr th {\n",
       "        vertical-align: top;\n",
       "    }\n",
       "\n",
       "    .dataframe thead th {\n",
       "        text-align: right;\n",
       "    }\n",
       "</style>\n",
       "<table border=\"1\" class=\"dataframe\">\n",
       "  <thead>\n",
       "    <tr style=\"text-align: right;\">\n",
       "      <th></th>\n",
       "      <th>Ticker</th>\n",
       "      <th>ROI</th>\n",
       "    </tr>\n",
       "  </thead>\n",
       "  <tbody>\n",
       "  </tbody>\n",
       "</table>\n",
       "</div>"
      ],
      "text/plain": [
       "Empty DataFrame\n",
       "Columns: [Ticker, ROI]\n",
       "Index: []"
      ]
     },
     "execution_count": 54,
     "metadata": {},
     "output_type": "execute_result"
    }
   ],
   "source": [
    "utility.sort_values(by=['ROI'], ascending=False).head(5)"
   ]
  },
  {
   "cell_type": "markdown",
   "metadata": {},
   "source": [
    "## Top Finance"
   ]
  },
  {
   "cell_type": "code",
   "execution_count": 55,
   "metadata": {},
   "outputs": [
    {
     "data": {
      "text/html": [
       "<div>\n",
       "<style scoped>\n",
       "    .dataframe tbody tr th:only-of-type {\n",
       "        vertical-align: middle;\n",
       "    }\n",
       "\n",
       "    .dataframe tbody tr th {\n",
       "        vertical-align: top;\n",
       "    }\n",
       "\n",
       "    .dataframe thead th {\n",
       "        text-align: right;\n",
       "    }\n",
       "</style>\n",
       "<table border=\"1\" class=\"dataframe\">\n",
       "  <thead>\n",
       "    <tr style=\"text-align: right;\">\n",
       "      <th></th>\n",
       "      <th>Ticker</th>\n",
       "      <th>ROI</th>\n",
       "    </tr>\n",
       "  </thead>\n",
       "  <tbody>\n",
       "  </tbody>\n",
       "</table>\n",
       "</div>"
      ],
      "text/plain": [
       "Empty DataFrame\n",
       "Columns: [Ticker, ROI]\n",
       "Index: []"
      ]
     },
     "execution_count": 55,
     "metadata": {},
     "output_type": "execute_result"
    }
   ],
   "source": [
    "finance.sort_values(by=['ROI'], ascending=False).head(5)"
   ]
  },
  {
   "cell_type": "markdown",
   "metadata": {},
   "source": [
    "## Top Materials"
   ]
  },
  {
   "cell_type": "code",
   "execution_count": 56,
   "metadata": {},
   "outputs": [
    {
     "data": {
      "text/html": [
       "<div>\n",
       "<style scoped>\n",
       "    .dataframe tbody tr th:only-of-type {\n",
       "        vertical-align: middle;\n",
       "    }\n",
       "\n",
       "    .dataframe tbody tr th {\n",
       "        vertical-align: top;\n",
       "    }\n",
       "\n",
       "    .dataframe thead th {\n",
       "        text-align: right;\n",
       "    }\n",
       "</style>\n",
       "<table border=\"1\" class=\"dataframe\">\n",
       "  <thead>\n",
       "    <tr style=\"text-align: right;\">\n",
       "      <th></th>\n",
       "      <th>Ticker</th>\n",
       "      <th>ROI</th>\n",
       "    </tr>\n",
       "  </thead>\n",
       "  <tbody>\n",
       "  </tbody>\n",
       "</table>\n",
       "</div>"
      ],
      "text/plain": [
       "Empty DataFrame\n",
       "Columns: [Ticker, ROI]\n",
       "Index: []"
      ]
     },
     "execution_count": 56,
     "metadata": {},
     "output_type": "execute_result"
    }
   ],
   "source": [
    "material.sort_values(by=['ROI'], ascending=False).head(5)"
   ]
  },
  {
   "cell_type": "markdown",
   "metadata": {},
   "source": [
    "## Top Real Estate"
   ]
  },
  {
   "cell_type": "code",
   "execution_count": 57,
   "metadata": {},
   "outputs": [
    {
     "data": {
      "text/html": [
       "<div>\n",
       "<style scoped>\n",
       "    .dataframe tbody tr th:only-of-type {\n",
       "        vertical-align: middle;\n",
       "    }\n",
       "\n",
       "    .dataframe tbody tr th {\n",
       "        vertical-align: top;\n",
       "    }\n",
       "\n",
       "    .dataframe thead th {\n",
       "        text-align: right;\n",
       "    }\n",
       "</style>\n",
       "<table border=\"1\" class=\"dataframe\">\n",
       "  <thead>\n",
       "    <tr style=\"text-align: right;\">\n",
       "      <th></th>\n",
       "      <th>Ticker</th>\n",
       "      <th>ROI</th>\n",
       "    </tr>\n",
       "  </thead>\n",
       "  <tbody>\n",
       "  </tbody>\n",
       "</table>\n",
       "</div>"
      ],
      "text/plain": [
       "Empty DataFrame\n",
       "Columns: [Ticker, ROI]\n",
       "Index: []"
      ]
     },
     "execution_count": 57,
     "metadata": {},
     "output_type": "execute_result"
    }
   ],
   "source": [
    "restate.sort_values(by=['ROI'], ascending=False).head(5)"
   ]
  },
  {
   "cell_type": "markdown",
   "metadata": {},
   "source": [
    "## Top Energy"
   ]
  },
  {
   "cell_type": "code",
   "execution_count": 58,
   "metadata": {},
   "outputs": [
    {
     "data": {
      "text/html": [
       "<div>\n",
       "<style scoped>\n",
       "    .dataframe tbody tr th:only-of-type {\n",
       "        vertical-align: middle;\n",
       "    }\n",
       "\n",
       "    .dataframe tbody tr th {\n",
       "        vertical-align: top;\n",
       "    }\n",
       "\n",
       "    .dataframe thead th {\n",
       "        text-align: right;\n",
       "    }\n",
       "</style>\n",
       "<table border=\"1\" class=\"dataframe\">\n",
       "  <thead>\n",
       "    <tr style=\"text-align: right;\">\n",
       "      <th></th>\n",
       "      <th>Ticker</th>\n",
       "      <th>ROI</th>\n",
       "    </tr>\n",
       "  </thead>\n",
       "  <tbody>\n",
       "  </tbody>\n",
       "</table>\n",
       "</div>"
      ],
      "text/plain": [
       "Empty DataFrame\n",
       "Columns: [Ticker, ROI]\n",
       "Index: []"
      ]
     },
     "execution_count": 58,
     "metadata": {},
     "output_type": "execute_result"
    }
   ],
   "source": [
    "energy.sort_values(by=['ROI'], ascending=False).head(5)"
   ]
  },
  {
   "cell_type": "markdown",
   "metadata": {},
   "source": [
    "## Portfolio List"
   ]
  },
  {
   "cell_type": "code",
   "execution_count": 59,
   "metadata": {},
   "outputs": [],
   "source": [
    "port_list = [\"GNRC\", \"DXCM\", \"AMD\", \"NFLX\", \"COST\", \"TGT\", \"AES\", \"MSCI\", \n",
    "             \"NEM\", \"SBAC\", \"HES\"]"
   ]
  },
  {
   "cell_type": "markdown",
   "metadata": {},
   "source": [
    "## Check for Correlation"
   ]
  },
  {
   "cell_type": "code",
   "execution_count": 60,
   "metadata": {},
   "outputs": [
    {
     "ename": "TypeError",
     "evalue": "'NoneType' object is not subscriptable",
     "output_type": "error",
     "traceback": [
      "\u001b[1;31m---------------------------------------------------------------------------\u001b[0m",
      "\u001b[1;31mTypeError\u001b[0m                                 Traceback (most recent call last)",
      "\u001b[1;32m~\\AppData\\Local\\Temp/ipykernel_26264/2338237393.py\u001b[0m in \u001b[0;36m<module>\u001b[1;34m\u001b[0m\n\u001b[1;32m----> 1\u001b[1;33m mult_df = merge_df_by_column_name('daily_return',  '2018-01-01', \n\u001b[0m\u001b[0;32m      2\u001b[0m                                   '2020-12-31', *port_list)\n\u001b[0;32m      3\u001b[0m \u001b[0mmult_df\u001b[0m\u001b[1;33m\u001b[0m\u001b[1;33m\u001b[0m\u001b[0m\n\u001b[0;32m      4\u001b[0m \u001b[1;33m\u001b[0m\u001b[0m\n\u001b[0;32m      5\u001b[0m \u001b[1;31m# Generate a Correlation Matrix\u001b[0m\u001b[1;33m\u001b[0m\u001b[1;33m\u001b[0m\u001b[0m\n",
      "\u001b[1;32m~\\AppData\\Local\\Temp/ipykernel_26264/680148194.py\u001b[0m in \u001b[0;36mmerge_df_by_column_name\u001b[1;34m(col_name, sdate, edate, *tickers)\u001b[0m\n\u001b[0;32m      5\u001b[0m     \u001b[1;32mfor\u001b[0m \u001b[0mx\u001b[0m \u001b[1;32min\u001b[0m \u001b[0mtickers\u001b[0m\u001b[1;33m:\u001b[0m\u001b[1;33m\u001b[0m\u001b[1;33m\u001b[0m\u001b[0m\n\u001b[0;32m      6\u001b[0m         \u001b[0mdf\u001b[0m \u001b[1;33m=\u001b[0m \u001b[0mget_df_from_csv\u001b[0m\u001b[1;33m(\u001b[0m\u001b[0mx\u001b[0m\u001b[1;33m)\u001b[0m\u001b[1;33m\u001b[0m\u001b[1;33m\u001b[0m\u001b[0m\n\u001b[1;32m----> 7\u001b[1;33m         \u001b[0mdf\u001b[0m\u001b[1;33m[\u001b[0m\u001b[1;34m'Date'\u001b[0m\u001b[1;33m]\u001b[0m \u001b[1;33m=\u001b[0m \u001b[0mpd\u001b[0m\u001b[1;33m.\u001b[0m\u001b[0mto_datetime\u001b[0m\u001b[1;33m(\u001b[0m\u001b[0mdf\u001b[0m\u001b[1;33m[\u001b[0m\u001b[1;34m'Date'\u001b[0m\u001b[1;33m]\u001b[0m\u001b[1;33m)\u001b[0m\u001b[1;33m\u001b[0m\u001b[1;33m\u001b[0m\u001b[0m\n\u001b[0m\u001b[0;32m      8\u001b[0m         \u001b[1;31m# Use a mask to grab data between defined dates\u001b[0m\u001b[1;33m\u001b[0m\u001b[1;33m\u001b[0m\u001b[0m\n\u001b[0;32m      9\u001b[0m         \u001b[0mmask\u001b[0m \u001b[1;33m=\u001b[0m \u001b[1;33m(\u001b[0m\u001b[0mdf\u001b[0m\u001b[1;33m[\u001b[0m\u001b[1;34m'Date'\u001b[0m\u001b[1;33m]\u001b[0m \u001b[1;33m>=\u001b[0m \u001b[0msdate\u001b[0m\u001b[1;33m)\u001b[0m \u001b[1;33m&\u001b[0m \u001b[1;33m(\u001b[0m\u001b[0mdf\u001b[0m\u001b[1;33m[\u001b[0m\u001b[1;34m'Date'\u001b[0m\u001b[1;33m]\u001b[0m \u001b[1;33m<=\u001b[0m \u001b[0medate\u001b[0m\u001b[1;33m)\u001b[0m\u001b[1;33m\u001b[0m\u001b[1;33m\u001b[0m\u001b[0m\n",
      "\u001b[1;31mTypeError\u001b[0m: 'NoneType' object is not subscriptable"
     ]
    }
   ],
   "source": [
    "mult_df = merge_df_by_column_name('daily_return',  '2018-01-01', \n",
    "                                  '2020-12-31', *port_list)\n",
    "mult_df\n",
    "\n",
    "# Generate a Correlation Matrix\n",
    "mult_df.corr()"
   ]
  },
  {
   "cell_type": "code",
   "execution_count": null,
   "metadata": {},
   "outputs": [
    {
     "data": {
      "text/plain": [
       "756"
      ]
     },
     "execution_count": 28,
     "metadata": {},
     "output_type": "execute_result"
    }
   ],
   "source": [
    "# Get the number of samples\n",
    "days = len(mult_df.index)\n",
    "days"
   ]
  },
  {
   "cell_type": "code",
   "execution_count": null,
   "metadata": {},
   "outputs": [],
   "source": [
    "def get_stock_price_on_date(ticker, date):\n",
    "    df = get_df_from_csv(ticker)\n",
    "    df = df.set_index(['Date'])\n",
    "    return df.loc[date,'Adj Close']"
   ]
  },
  {
   "cell_type": "code",
   "execution_count": null,
   "metadata": {},
   "outputs": [
    {
     "name": "stdout",
     "output_type": "stream",
     "text": [
      "GNRC $ 224.55999755859366\n",
      "DXCM $ 357.739990234375\n",
      "AMD $ 92.3000030517578\n",
      "NFLX $ 522.8599853515625\n",
      "COST $ 377.8815307617188\n",
      "TGT $ 175.82254028320312\n",
      "AES $ 22.82006454467773\n",
      "MSCI $ 435.3967590332031\n",
      "NEM $ 62.0733871459961\n",
      "SBAC $ 274.42422485351557\n",
      "HES $ 52.46865844726562\n"
     ]
    },
    {
     "data": {
      "text/plain": [
       "4905.980000000001"
      ]
     },
     "execution_count": 30,
     "metadata": {},
     "output_type": "execute_result"
    }
   ],
   "source": [
    "# 01-04-2021 is the 1st date in 2021\n",
    "print(\"GNRC $\", get_stock_price_on_date('GNRC', '2021-01-04')) # 2 449.12\n",
    "print(\"DXCM $\", get_stock_price_on_date('DXCM', '2021-01-04')) # 1 357.74\n",
    "print(\"AMD $\", get_stock_price_on_date('AMD', '2021-01-04')) # 4 369.2\n",
    "print(\"NFLX $\", get_stock_price_on_date('NFLX', '2021-01-04')) # 1 522.86\n",
    "print(\"COST $\", get_stock_price_on_date('COST', '2021-01-04')) # 1 377.88\n",
    "print(\"TGT $\", get_stock_price_on_date('TGT', '2021-01-04')) # 3 527.46\n",
    "print(\"AES $\", get_stock_price_on_date('AES', '2021-01-04')) # 18 410.76\n",
    "print(\"MSCI $\", get_stock_price_on_date('MSCI', '2021-01-04')) # 1 435.40\n",
    "print(\"NEM $\", get_stock_price_on_date('NEM', '2021-01-04')) # 7 434.49\n",
    "print(\"SBAC $\", get_stock_price_on_date('SBAC', '2021-01-04')) # 2 548.84\n",
    "print(\"HES $\", get_stock_price_on_date('HES', '2021-01-04')) # 9 472.23\n",
    "\n",
    "# Total Investment\n",
    "tot_inv = 449.12 + 357.74 + 369.2 + 522.86 + 377.88 + 527.46 + 410.76 + \\\n",
    "435.40 + 434.49 + 548.84 + 472.23\n",
    "tot_inv"
   ]
  },
  {
   "cell_type": "markdown",
   "metadata": {},
   "source": [
    "## Returns Portfolio Weight"
   ]
  },
  {
   "cell_type": "code",
   "execution_count": null,
   "metadata": {},
   "outputs": [],
   "source": [
    "def get_port_weight(price, total):\n",
    "    return price / total"
   ]
  },
  {
   "cell_type": "code",
   "execution_count": null,
   "metadata": {},
   "outputs": [
    {
     "name": "stdout",
     "output_type": "stream",
     "text": [
      "Portfolio Covariance : 0.182210333776233\n",
      "GNRC Var : 0.4394654360724264\n",
      "NFLX Var : 0.5477253623043393\n"
     ]
    }
   ],
   "source": [
    "gnrc_w = get_port_weight(449.12, 4905.98)\n",
    "dxcm_w = get_port_weight(357.74, 4905.98)\n",
    "amd_w = get_port_weight(369.2, 4905.98)\n",
    "nflx_w = get_port_weight(522.86, 4905.98)\n",
    "cost_w = get_port_weight(377.88, 4905.98)\n",
    "tgt_w = get_port_weight(527.46, 4905.98)\n",
    "aes_w = get_port_weight(410.76, 4905.98)\n",
    "msci_w = get_port_weight(435.40, 4905.98)\n",
    "nem_w = get_port_weight(434.49, 4905.98)\n",
    "sbac_w = get_port_weight(548.84, 4905.98)\n",
    "hes_w = get_port_weight(472.23, 4905.98)\n",
    "\n",
    "wts = np.array([gnrc_w, dxcm_w, amd_w, nflx_w, cost_w, tgt_w, aes_w, msci_w, \\\n",
    "                nem_w, sbac_w, hes_w])\n",
    "wts\n",
    "\n",
    "port_var = np.dot(wts.T, np.dot(mult_df.cov() * 756, wts))\n",
    "print(\"Portfolio Covariance :\", port_var)\n",
    "print(\"GNRC Var :\", mult_df[\"GNRC\"].var() * 756)\n",
    "print(\"NFLX Var :\", mult_df[\"NFLX\"].var() * 756)"
   ]
  },
  {
   "cell_type": "markdown",
   "metadata": {},
   "source": [
    "## Different Types of Risk"
   ]
  },
  {
   "cell_type": "markdown",
   "metadata": {},
   "source": [
    "There is risk that you can limit through diversifaction (Idiosyncratic) and risk that you can't (Systematic). Systematic risk \n",
    "is caused by unforeseen conditions such as wars, recessions, natural disasters, dramatic changes in consumer actions, etc.\n",
    "\n",
    "Data tells us that if we make a portfolio made up of approximately 25 stocks that aren't correlated that we can dramatically\n",
    "lower idiosyncratic risk. That is one reason why people invest in indexes. You can further lower risk by investing in\n",
    "other countries, bonds and cash."
   ]
  },
  {
   "cell_type": "markdown",
   "metadata": {},
   "source": [
    "## Diversifiable Risk"
   ]
  },
  {
   "cell_type": "code",
   "execution_count": null,
   "metadata": {},
   "outputs": [],
   "source": [
    "# Diversifiable Risk = Portfolio Variance - All Weighted Variances\n",
    "def calc_diversifiable_risk(df, tickers, weights):\n",
    "    # Gets number of days\n",
    "    days = len(mult_df.index)\n",
    "    # Calculate covariance of portfolio\n",
    "    port_covar = np.dot(weights.T, np.dot(df.cov() * days, weights)) \n",
    "    \n",
    "    i = 0\n",
    "    while i < len(tickers):\n",
    "        wt_sq = weights[i] ** 2\n",
    "        stk_var = mult_df[tickers[i]].var() * days\n",
    "        wt_var = wt_sq * stk_var\n",
    "        port_covar = port_covar - wt_var\n",
    "        i += 1\n",
    "    return port_covar"
   ]
  },
  {
   "cell_type": "code",
   "execution_count": null,
   "metadata": {},
   "outputs": [
    {
     "data": {
      "text/plain": [
       "0.13626654511704772"
      ]
     },
     "execution_count": 34,
     "metadata": {},
     "output_type": "execute_result"
    }
   ],
   "source": [
    "div_risk = calc_diversifiable_risk(mult_df, port_list, wts)\n",
    "div_risk"
   ]
  },
  {
   "cell_type": "markdown",
   "metadata": {},
   "source": [
    "## Find Risk that Can't be Diversified"
   ]
  },
  {
   "cell_type": "code",
   "execution_count": null,
   "metadata": {},
   "outputs": [
    {
     "name": "stdout",
     "output_type": "stream",
     "text": [
      "Systematic Risk : 0.045943788659185275\n"
     ]
    }
   ],
   "source": [
    "print(\"Systematic Risk :\", (port_var - div_risk))"
   ]
  }
 ],
 "metadata": {
  "kernelspec": {
   "display_name": "Python 3",
   "language": "python",
   "name": "python3"
  },
  "language_info": {
   "codemirror_mode": {
    "name": "ipython",
    "version": 3
   },
   "file_extension": ".py",
   "mimetype": "text/x-python",
   "name": "python",
   "nbconvert_exporter": "python",
   "pygments_lexer": "ipython3",
   "version": "3.9.7"
  }
 },
 "nbformat": 4,
 "nbformat_minor": 4
}
